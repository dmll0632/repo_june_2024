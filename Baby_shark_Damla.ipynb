{
 "cells": [
  {
   "cell_type": "markdown",
   "id": "ab0bb712-1b5b-41c6-8fd2-cc3668d6efda",
   "metadata": {},
   "source": [
    "**DAY 2**\n",
    "By the end of day, as a minimum you should have:\n",
    "\n",
    "Initiated the data cleaning process, focusing on non-date fields. This should include handling null values, removing duplicates, manipulating strings, and formatting the data.\n",
    "Implemented the use of Regular Expressions (Regex) in Python to clean and manipulate string data within the dataset.\n",
    "If dates are included in the analysis, implemented the use of proper date handling tecues.hniq"
   ]
  },
  {
   "cell_type": "code",
   "execution_count": null,
   "id": "57986ba2-018a-40f9-9064-19d3f8cb22c3",
   "metadata": {},
   "outputs": [],
   "source": [
    "\n",
    "sharks_df.columns = pd.Series(sharks_df.columns).apply(lambda col: col.lower())\n",
    "sharks_df.rename(columns = lambda x: x.replace(' ', '_'), inplace=True)\n",
    "sharks_df.columns"
   ]
  },
  {
   "cell_type": "code",
   "execution_count": null,
   "id": "a2cbf318-a1bd-4361-8cd1-a192afcf4f60",
   "metadata": {},
   "outputs": [],
   "source": [
    "sharks_df['country'] = sharks_df['country'].str.upper()\n",
    "sharks_df['country'] = sharks_df['country'].str.strip()\n",
    "sharks_df['country'] = sharks_df['country'].str.replace(' ', '_')\n"
   ]
  },
  {
   "cell_type": "code",
   "execution_count": null,
   "id": "53280672-bcb6-418c-9be6-7bb7c7f79277",
   "metadata": {},
   "outputs": [],
   "source": [
    "replace_dict = {\n",
    "    'USA': 'UNITED_STATES',\n",
    "    'COLUMBIA': 'COLOMBIA',\n",
    "    'ST_KITTS_/_NEVIS': 'ST_KITTS_AND_NEVIS',\n",
    "    'ST._MARTIN': 'ST_MARTIN',\n",
    "    'TRINIDAD_&_TOBAGO': 'TRINIDAD_AND_TOBAGO',\n",
    "    'UNITED_ARAB_EMIRATES_(UAE)': 'UNITED_ARAB_EMIRATES',\n",
    "    'EGYPT_/_ISRAEL': 'EGYPT_ISRAEL',\n",
    "    'RED_SEA_/_INDIAN_OCEAN': 'RED_SEA_INDIAN_OCEAN',\n",
    "    'INDIAN_OCEAN?': 'INDIAN_OCEAN',\n",
    "    'CEYLON_(SRI_LANKA)': 'CEYLON_SRI_LANKA'\n",
    "}\n",
    "\n",
    "sharks_df['country'] = sharks_df['country'].replace(replace_dict)\n",
    "\n",
    "# Display unique countries in cleaned format\n",
    "#print(sharks_df['country'].unique())\n",
    "\n",
    "df_sorted = sharks_df.sort_values(by='country')\n",
    "print(df_sorted[\"country\"].iloc[150:200])\n",
    "\n",
    "\n",
    "df_sorted['country'].value_counts()\n",
    "#to figure out where is the most and less shark attacks happenning: so we can use this info for our hypothesis."
   ]
  },
  {
   "cell_type": "code",
   "execution_count": null,
   "id": "e637274a-1c4a-4760-b493-83738d759960",
   "metadata": {},
   "outputs": [],
   "source": [
    "sharks_df.nunique() "
   ]
  },
  {
   "cell_type": "markdown",
   "id": "4b01b3d5-9db7-4442-96cc-b96bf1b3bc07",
   "metadata": {},
   "source": [
    "**Hey!I did some stuff in Country column and now I am cleaning the activity column** -Damla"
   ]
  },
  {
   "cell_type": "code",
   "execution_count": null,
   "id": "2fc22043-5f52-429d-aca2-49463e15f4c8",
   "metadata": {},
   "outputs": [],
   "source": [
    "sharks_df['activity'] = sharks_df['activity'].str.lower()\n",
    "sharks_df['activity'] = sharks_df['activity'].str.strip()\n",
    "sharks_df['activity'] = sharks_df['activity'].str.replace(' ', '_')"
   ]
  },
  {
   "cell_type": "code",
   "execution_count": null,
   "id": "91f01179-4516-4ba2-a02e-4d396e259583",
   "metadata": {},
   "outputs": [],
   "source": [
    "sharks_df['activity']"
   ]
  },
  {
   "cell_type": "code",
   "execution_count": null,
   "id": "f8191834-a0cc-4a99-9291-02901fa71ac6",
   "metadata": {},
   "outputs": [],
   "source": [
    "sharks_df[\"activity\"].unique()"
   ]
  },
  {
   "cell_type": "markdown",
   "id": "b75879dd-294b-4161-b3c9-cf75f3655d84",
   "metadata": {},
   "source": [
    "**TYPE COLUMN**"
   ]
  },
  {
   "cell_type": "code",
   "execution_count": null,
   "id": "000bfa24-0c58-4df9-9401-084b81359909",
   "metadata": {},
   "outputs": [],
   "source": [
    "sharks_df['type'] = sharks_df['type'].str.lower()\n",
    "sharks_df['type'] = sharks_df['type'].str.strip()\n",
    "sharks_df['type'] = sharks_df['type'].str.replace(' ', '_')\n"
   ]
  },
  {
   "cell_type": "code",
   "execution_count": null,
   "id": "8fd81ec2-317b-45f3-b6ee-c3298aaf6a44",
   "metadata": {},
   "outputs": [],
   "source": [
    "sharks_df[\"type\"].unique()"
   ]
  },
  {
   "cell_type": "code",
   "execution_count": null,
   "id": "7da23c2c-90f0-4064-9d28-a56b0d0e5bcc",
   "metadata": {},
   "outputs": [],
   "source": [
    "array(['unprovoked', 'provoked', 'questionable', 'watercraft',\n",
    "       'sea_disaster', nan, '?', 'unconfirmed', 'unverified', 'invalid',\n",
    "       'under_investigation', 'boat'], dtype=object)"
   ]
  }
 ],
 "metadata": {
  "kernelspec": {
   "display_name": "Python 3 (ipykernel)",
   "language": "python",
   "name": "python3"
  },
  "language_info": {
   "codemirror_mode": {
    "name": "ipython",
    "version": 3
   },
   "file_extension": ".py",
   "mimetype": "text/x-python",
   "name": "python",
   "nbconvert_exporter": "python",
   "pygments_lexer": "ipython3",
   "version": "3.11.7"
  }
 },
 "nbformat": 4,
 "nbformat_minor": 5
}
